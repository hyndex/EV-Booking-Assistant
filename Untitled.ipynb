{
 "cells": [
  {
   "cell_type": "code",
   "execution_count": 13,
   "metadata": {},
   "outputs": [],
   "source": [
    "import pandas as pd\n",
    "import numpy as np"
   ]
  },
  {
   "cell_type": "code",
   "execution_count": 3,
   "metadata": {},
   "outputs": [],
   "source": [
    "data = pd.read_csv('loc.csv')"
   ]
  },
  {
   "cell_type": "code",
   "execution_count": 5,
   "metadata": {},
   "outputs": [],
   "source": [
    "data['place_name']=data['place_name'].str.lower()"
   ]
  },
  {
   "cell_type": "code",
   "execution_count": 15,
   "metadata": {},
   "outputs": [
    {
     "data": {
      "text/plain": [
       "26.5167"
      ]
     },
     "execution_count": 15,
     "metadata": {},
     "output_type": "execute_result"
    }
   ],
   "source": [
    "np.array(data[data['place_name']=='golaghat'].latitude)[0]"
   ]
  },
  {
   "cell_type": "code",
   "execution_count": 7,
   "metadata": {},
   "outputs": [
    {
     "data": {
      "text/plain": [
       "0                  connaught place\n",
       "1                       darya ganj\n",
       "2                          aliganj\n",
       "3               rashtrapati bhawan\n",
       "4          lower camp anand parbat\n",
       "5                       bara tooti\n",
       "6                      birla lines\n",
       "7                      patel nagar\n",
       "8                      delhi cantt\n",
       "9                    nirman bhawan\n",
       "10                       inderpuri\n",
       "11               hazrat nizamuddin\n",
       "12                        jangpura\n",
       "13                         zakhira\n",
       "14                       hauz khas\n",
       "15                   malviya nagar\n",
       "16                   vishnu garden\n",
       "17                     nehru place\n",
       "18       flatted factories complex\n",
       "19                     malcha marg\n",
       "20            postal saving bureau\n",
       "21                    kidwai nagar\n",
       "22                    lajpat nagar\n",
       "23                     jamia nagar\n",
       "24                    punjabi bagh\n",
       "25         j 6block rajouri garden\n",
       "26       naraina industrial estate\n",
       "27                 himayunpur extn\n",
       "28                    t b hospital\n",
       "29                    gandhi nagar\n",
       "                   ...            \n",
       "11012                   mahadeopur\n",
       "11013                      banaili\n",
       "11014                    banmankhi\n",
       "11015                      rajdham\n",
       "11016                     dhamdaha\n",
       "11017                        sarsi\n",
       "11018                       araria\n",
       "11019                   araria r s\n",
       "11020                        baisi\n",
       "11021                   forbesganj\n",
       "11022                 garh banaili\n",
       "11023                    gulabbagh\n",
       "11024                    jalalgarh\n",
       "11025                      jogbani\n",
       "11026                        kasba\n",
       "11027              madanpur purnia\n",
       "11028                   narpalganj\n",
       "11029                    nawabganj\n",
       "11030                  balua bazar\n",
       "11031               rampur(purnea)\n",
       "11032              amhara (pornia)\n",
       "11033           ganeshpur (purnea)\n",
       "11034                  bahadurganj\n",
       "11035                     galgalia\n",
       "11036                      salmari\n",
       "11037                   thakurganj\n",
       "11038                    taiyabpur\n",
       "11039                   terhagachi\n",
       "11040                   balarampur\n",
       "11041                       tulsia\n",
       "Name: place_name, Length: 11042, dtype: object"
      ]
     },
     "execution_count": 7,
     "metadata": {},
     "output_type": "execute_result"
    }
   ],
   "source": [
    "data['place_name']"
   ]
  },
  {
   "cell_type": "code",
   "execution_count": null,
   "metadata": {},
   "outputs": [],
   "source": []
  }
 ],
 "metadata": {
  "kernelspec": {
   "display_name": "Python 3",
   "language": "python",
   "name": "python3"
  },
  "language_info": {
   "codemirror_mode": {
    "name": "ipython",
    "version": 3
   },
   "file_extension": ".py",
   "mimetype": "text/x-python",
   "name": "python",
   "nbconvert_exporter": "python",
   "pygments_lexer": "ipython3",
   "version": "3.7.3"
  }
 },
 "nbformat": 4,
 "nbformat_minor": 2
}
